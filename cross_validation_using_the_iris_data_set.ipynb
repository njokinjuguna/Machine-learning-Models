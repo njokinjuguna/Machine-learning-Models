{
  "nbformat": 4,
  "nbformat_minor": 0,
  "metadata": {
    "colab": {
      "provenance": [],
      "toc_visible": true,
      "authorship_tag": "ABX9TyNfLQk6jCH61gh8Kwls4rwE",
      "include_colab_link": true
    },
    "kernelspec": {
      "name": "python3",
      "display_name": "Python 3"
    },
    "language_info": {
      "name": "python"
    }
  },
  "cells": [
    {
      "cell_type": "markdown",
      "metadata": {
        "id": "view-in-github",
        "colab_type": "text"
      },
      "source": [
        "<a href=\"https://colab.research.google.com/github/njokinjuguna/Machine-learning-Models/blob/main/cross_validation_using_the_iris_data_set.ipynb\" target=\"_parent\"><img src=\"https://colab.research.google.com/assets/colab-badge.svg\" alt=\"Open In Colab\"/></a>"
      ]
    },
    {
      "cell_type": "markdown",
      "source": [
        "# **cross validation using the iris data set**"
      ],
      "metadata": {
        "id": "hgIMJz5JA7RM"
      }
    },
    {
      "cell_type": "markdown",
      "source": [
        "## **import the libraries**"
      ],
      "metadata": {
        "id": "bcWoI5bfBOMV"
      }
    },
    {
      "cell_type": "code",
      "source": [
        "from sklearn.datasets import load_iris\n",
        "from sklearn.model_selection import train_test_split\n",
        "from sklearn.neighbors import KNeighborsClassifier\n",
        "from sklearn.linear_model import LogisticRegression\n",
        "from sklearn.svm import SVC\n",
        "from sklearn.ensemble import RandomForestClassifier\n",
        "from sklearn.model_selection import cross_val_score\n",
        "import numpy as np\n",
        "import pandas as pd\n",
        "from sklearn.preprocessing import StandardScaler\n",
        "from sklearn.model_selection import StratifiedKFold"
      ],
      "metadata": {
        "id": "S-PVKKVLBXcg"
      },
      "execution_count": 144,
      "outputs": []
    },
    {
      "cell_type": "markdown",
      "source": [
        "## **Load the data**"
      ],
      "metadata": {
        "id": "fmqymZWRBwWo"
      }
    },
    {
      "cell_type": "code",
      "source": [
        "iris = load_iris()\n",
        "X=iris.data\n",
        "y=iris.target"
      ],
      "metadata": {
        "id": "Bq9Zp8BSB10R"
      },
      "execution_count": 145,
      "outputs": []
    },
    {
      "cell_type": "code",
      "source": [
        "#Check for missing values\n",
        "print(\"Missing values per column:\\n\", df.isnull().sum())"
      ],
      "metadata": {
        "colab": {
          "base_uri": "https://localhost:8080/"
        },
        "id": "G2MF-02RFPTO",
        "outputId": "48ba3801-2ab6-4f68-b890-710b13704b16"
      },
      "execution_count": 146,
      "outputs": [
        {
          "output_type": "stream",
          "name": "stdout",
          "text": [
            "Missing values per column:\n",
            " sepal length (cm)    0\n",
            "sepal width (cm)     0\n",
            "petal length (cm)    0\n",
            "petal width (cm)     0\n",
            "target               0\n",
            "dtype: int64\n"
          ]
        }
      ]
    },
    {
      "cell_type": "code",
      "source": [
        "# Convert to a DataFrame for easier cleaning and exploration\n",
        "df = pd.DataFrame(data=np.c_[X, y], columns=iris.feature_names + ['target'])"
      ],
      "metadata": {
        "id": "qNvm9W2ID3eK"
      },
      "execution_count": 147,
      "outputs": []
    },
    {
      "cell_type": "code",
      "source": [
        "# Standardize the features (important for models like SVM)\n",
        "scaler = StandardScaler()\n",
        "X_scaled = scaler.fit_transform(X)"
      ],
      "metadata": {
        "id": "Fl2rSyISEbwj"
      },
      "execution_count": 148,
      "outputs": []
    },
    {
      "cell_type": "code",
      "source": [
        "# Split features (X_scaled) and target (y)\n",
        "X = X_scaled  # After scaling the features\n",
        "y = df['target'].values  # Target remains the same"
      ],
      "metadata": {
        "id": "AoVOdjtEEw_N"
      },
      "execution_count": 149,
      "outputs": []
    },
    {
      "cell_type": "markdown",
      "source": [
        "## **StratifiedKFold**"
      ],
      "metadata": {
        "id": "O1AodUQYGSLT"
      }
    },
    {
      "cell_type": "code",
      "source": [
        "folds=StratifiedKFold(n_splits=5)"
      ],
      "metadata": {
        "id": "907gzQegGWqK"
      },
      "execution_count": 150,
      "outputs": []
    },
    {
      "cell_type": "markdown",
      "source": [
        "## **Initialization**"
      ],
      "metadata": {
        "id": "u3FQVVIbGfpb"
      }
    },
    {
      "cell_type": "code",
      "source": [
        "scores_lg = []\n",
        "scores_svm = []\n",
        "scores_rf = []\n",
        "scores_knn = []"
      ],
      "metadata": {
        "id": "SKzthhuJGk81"
      },
      "execution_count": 151,
      "outputs": []
    },
    {
      "cell_type": "markdown",
      "source": [
        "## **The get_score()**"
      ],
      "metadata": {
        "id": "WQI2cIacGvMH"
      }
    },
    {
      "cell_type": "code",
      "source": [
        "def get_score(model, X_train, X_test, y_train, y_test):\n",
        "  model.fit(X_train,y_train)\n",
        "  return model.score(X_test,y_test)\n",
        "\n"
      ],
      "metadata": {
        "id": "1Tc00nRVH5kJ"
      },
      "execution_count": 152,
      "outputs": []
    },
    {
      "cell_type": "markdown",
      "source": [
        "## **cross-validation loop**"
      ],
      "metadata": {
        "id": "zz-0DSoRIkrY"
      }
    },
    {
      "cell_type": "code",
      "source": [
        "for train_index,test_index in folds.split(X,y):\n",
        "  X_train,X_test,y_train,y_test=X[train_index],X[test_index],y[train_index],y[test_index]"
      ],
      "metadata": {
        "id": "MlpqEHU-IqjE"
      },
      "execution_count": 153,
      "outputs": []
    },
    {
      "cell_type": "markdown",
      "source": [
        "## **Evaluation of the 4 algorithms**"
      ],
      "metadata": {
        "id": "n18HlPTwJV0S"
      }
    },
    {
      "cell_type": "markdown",
      "source": [
        "### **Logistic Regression**"
      ],
      "metadata": {
        "id": "LEiEbpHeJnBu"
      }
    },
    {
      "cell_type": "code",
      "source": [
        "scores_lg.append(get_score(LogisticRegression(max_iter=1000), X_train, X_test, y_train, y_test))"
      ],
      "metadata": {
        "id": "0ckUR0fGJqs3"
      },
      "execution_count": 154,
      "outputs": []
    },
    {
      "cell_type": "markdown",
      "source": [
        "### **SVM(Support Vector Machine)**"
      ],
      "metadata": {
        "id": "NEErb6qHJuMx"
      }
    },
    {
      "cell_type": "code",
      "source": [
        "scores_svm.append(get_score(SVC(), X_train, X_test, y_train, y_test))"
      ],
      "metadata": {
        "id": "7xYSj6MDJ2b4"
      },
      "execution_count": 155,
      "outputs": []
    },
    {
      "cell_type": "markdown",
      "source": [
        "### **Random Forest**"
      ],
      "metadata": {
        "id": "mzIj1krCKBLz"
      }
    },
    {
      "cell_type": "code",
      "source": [
        "scores_rf.append(get_score(RandomForestClassifier(), X_train, X_test, y_train, y_test))"
      ],
      "metadata": {
        "id": "glp2szHmKI1E"
      },
      "execution_count": 156,
      "outputs": []
    },
    {
      "cell_type": "markdown",
      "source": [
        "### **KNN**"
      ],
      "metadata": {
        "id": "Di9-z1dcOZdC"
      }
    },
    {
      "cell_type": "code",
      "source": [
        "scores_knn.append(get_score(KNeighborsClassifier(), X_train, X_test, y_train, y_test))"
      ],
      "metadata": {
        "id": "bZrgjzoTOeOH"
      },
      "execution_count": 157,
      "outputs": []
    },
    {
      "cell_type": "markdown",
      "source": [
        "## **cross-validation scores **"
      ],
      "metadata": {
        "id": "gT17k9X6KVcJ"
      }
    },
    {
      "cell_type": "code",
      "source": [
        "print(\"Logistic Regression Scores: \", scores_lg)\n",
        "print(\"SVM Scores: \", scores_svm)\n",
        "print(\"Random Forest Scores: \", scores_rf)\n",
        "print(\"KNN Scores: \", scores_knn)"
      ],
      "metadata": {
        "colab": {
          "base_uri": "https://localhost:8080/"
        },
        "id": "RPhmMWYJM4Q4",
        "outputId": "aa173408-f62d-4f2b-a3d8-66d7b641a829"
      },
      "execution_count": 158,
      "outputs": [
        {
          "output_type": "stream",
          "name": "stdout",
          "text": [
            "Logistic Regression Scores:  [1.0]\n",
            "SVM Scores:  [1.0]\n",
            "Random Forest Scores:  [1.0]\n",
            "KNN Scores:  [1.0]\n"
          ]
        }
      ]
    },
    {
      "cell_type": "markdown",
      "source": [
        "### **Average Scores**"
      ],
      "metadata": {
        "id": "qz7O2_exNPk0"
      }
    },
    {
      "cell_type": "code",
      "source": [
        "print(\"Average Logistic Regression Score: \", np.mean(scores_lg))\n",
        "print(\"Average SVM Score: \", np.mean(scores_svm))\n",
        "print(\"Average Random Forest Score: \", np.mean(scores_rf))\n",
        "print(\"Average KNN Score: \", np.mean(scores_knn))"
      ],
      "metadata": {
        "colab": {
          "base_uri": "https://localhost:8080/"
        },
        "id": "apQeyl3uNVii",
        "outputId": "2ef90b5d-13a0-495a-d0c4-47b046d0db93"
      },
      "execution_count": 159,
      "outputs": [
        {
          "output_type": "stream",
          "name": "stdout",
          "text": [
            "Average Logistic Regression Score:  1.0\n",
            "Average SVM Score:  1.0\n",
            "Average Random Forest Score:  1.0\n",
            "Average KNN Score:  1.0\n"
          ]
        }
      ]
    },
    {
      "cell_type": "markdown",
      "source": [
        "## **cross_val_score**\n",
        "lets apply the cross_val_score() from sklearn"
      ],
      "metadata": {
        "id": "AbIUafXzPfTJ"
      }
    },
    {
      "cell_type": "code",
      "source": [
        "scores_svm.append(cross_val_score(SVC(),X,y))"
      ],
      "metadata": {
        "id": "iEIPQRIBPzr_"
      },
      "execution_count": 160,
      "outputs": []
    },
    {
      "cell_type": "code",
      "source": [
        "scores_knn.append(cross_val_score(KNeighborsClassifier(),X,y))"
      ],
      "metadata": {
        "id": "N8WhHJS7QTyE"
      },
      "execution_count": 161,
      "outputs": []
    },
    {
      "cell_type": "code",
      "source": [
        "scores_rf.append(cross_val_score(RandomForestClassifier(),X,y))"
      ],
      "metadata": {
        "id": "U0x2C64EQXeK"
      },
      "execution_count": 162,
      "outputs": []
    },
    {
      "cell_type": "code",
      "source": [
        "scores_lg.append(cross_val_score(LogisticRegression(max_iter=1000),X,y))"
      ],
      "metadata": {
        "id": "Q1SYxQ8RRY6-"
      },
      "execution_count": 163,
      "outputs": []
    },
    {
      "cell_type": "code",
      "source": [
        "print(\"Logistic Regression Scores: \", scores_lg)\n",
        "print(\"SVM Scores: \", scores_svm)\n",
        "print(\"Random Forest Scores: \", scores_rf)\n",
        "print(\"KNN Scores: \", scores_knn)"
      ],
      "metadata": {
        "colab": {
          "base_uri": "https://localhost:8080/"
        },
        "id": "NIkfETUySPdz",
        "outputId": "702a816b-6d26-4469-8cad-c99b89ba42e4"
      },
      "execution_count": 164,
      "outputs": [
        {
          "output_type": "stream",
          "name": "stdout",
          "text": [
            "Logistic Regression Scores:  [1.0, array([0.96666667, 1.        , 0.93333333, 0.9       , 1.        ])]\n",
            "SVM Scores:  [1.0, array([0.96666667, 0.96666667, 0.96666667, 0.93333333, 1.        ])]\n",
            "Random Forest Scores:  [1.0, array([0.96666667, 0.96666667, 0.93333333, 0.9       , 1.        ])]\n",
            "KNN Scores:  [1.0, array([0.96666667, 0.96666667, 0.93333333, 0.93333333, 1.        ])]\n"
          ]
        }
      ]
    }
  ]
}