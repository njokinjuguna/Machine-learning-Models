{
  "nbformat": 4,
  "nbformat_minor": 0,
  "metadata": {
    "colab": {
      "provenance": [],
      "authorship_tag": "ABX9TyMu7aZM2R3Hzf68EAvZ2nm4",
      "include_colab_link": true
    },
    "kernelspec": {
      "name": "python3",
      "display_name": "Python 3"
    },
    "language_info": {
      "name": "python"
    }
  },
  "cells": [
    {
      "cell_type": "markdown",
      "metadata": {
        "id": "view-in-github",
        "colab_type": "text"
      },
      "source": [
        "<a href=\"https://colab.research.google.com/github/njokinjuguna/Machine-learning-Models/blob/main/Hugging_Face.ipynb\" target=\"_parent\"><img src=\"https://colab.research.google.com/assets/colab-badge.svg\" alt=\"Open In Colab\"/></a>"
      ]
    },
    {
      "cell_type": "code",
      "execution_count": 30,
      "metadata": {
        "id": "0VApIFYBvW6k"
      },
      "outputs": [],
      "source": [
        "# !pip install transformers\n",
        "# !pip install transformers torch datasets\n",
        "# !pip install git+https://github.com/openai/CLIP.git"
      ]
    },
    {
      "cell_type": "code",
      "source": [
        "import os\n",
        "from PIL import Image\n",
        "import torch\n",
        "import clip\n",
        "from transformers import CLIPProcessor, CLIPModel\n",
        "from sklearn.metrics.pairwise import cosine_similarity"
      ],
      "metadata": {
        "id": "g3JynThPAEyx"
      },
      "execution_count": 36,
      "outputs": []
    },
    {
      "cell_type": "code",
      "source": [
        "# Load CLIP model\n",
        "model_name = \"openai/clip-vit-base-patch32\"\n",
        "model = CLIPModel.from_pretrained(model_name)\n",
        "processor = CLIPProcessor.from_pretrained(model_name)"
      ],
      "metadata": {
        "id": "ToX9ZNFRAP_r"
      },
      "execution_count": 37,
      "outputs": []
    },
    {
      "cell_type": "code",
      "source": [
        "# Folder path for kitchen designs (change this to your folder path)\n",
        "kitchen_folder = \"kitchen/\"  # Replace with your kitchen folder path\n",
        "kitchen_images = [os.path.join(kitchen_folder, fname) for fname in os.listdir(kitchen_folder) if fname.endswith('.jpg')]"
      ],
      "metadata": {
        "id": "u6fJwAhJAXIo"
      },
      "execution_count": 39,
      "outputs": []
    },
    {
      "cell_type": "code",
      "source": [
        "# Client's description\n",
        "client_input = \"modern kitchen with a large island\"\n",
        "texts = [client_input]"
      ],
      "metadata": {
        "id": "SDfLU0gOAkne"
      },
      "execution_count": 40,
      "outputs": []
    },
    {
      "cell_type": "code",
      "source": [
        "# Calculate similarity scores for each image in the kitchen folder\n",
        "similarities = []\n",
        "for image_path in kitchen_images:\n",
        "    image = Image.open(image_path)\n",
        "    inputs = processor(text=texts, images=image, return_tensors=\"pt\", padding=True)\n",
        "\n",
        "    with torch.no_grad():\n",
        "        outputs = model(**inputs)\n",
        "        image_features = outputs.image_embeds\n",
        "        text_features = outputs.text_embeds\n",
        "\n",
        "    # Compute cosine similarity\n",
        "    similarity = cosine_similarity(image_features.cpu(), text_features.cpu())[0][0]\n",
        "    similarities.append((image_path, similarity))\n",
        "\n",
        "# Sort the images by similarity score (highest score first)\n",
        "similarities.sort(key=lambda x: x[1], reverse=True)\n",
        "\n",
        "# Print the best matching image and score\n",
        "best_match_image = similarities[0][0]\n",
        "print(f\"Best matching design: {best_match_image} with score: {similarities[0][1]}\")\n"
      ],
      "metadata": {
        "colab": {
          "base_uri": "https://localhost:8080/",
          "height": 200
        },
        "id": "9g7dlE70Apoa",
        "outputId": "b2e7f9a7-745b-40be-8cc4-0a87912325e9"
      },
      "execution_count": 41,
      "outputs": [
        {
          "output_type": "error",
          "ename": "IndexError",
          "evalue": "list index out of range",
          "traceback": [
            "\u001b[0;31m---------------------------------------------------------------------------\u001b[0m",
            "\u001b[0;31mIndexError\u001b[0m                                Traceback (most recent call last)",
            "\u001b[0;32m<ipython-input-41-a42cd82d7c16>\u001b[0m in \u001b[0;36m<cell line: 0>\u001b[0;34m()\u001b[0m\n\u001b[1;32m     18\u001b[0m \u001b[0;34m\u001b[0m\u001b[0m\n\u001b[1;32m     19\u001b[0m \u001b[0;31m# Print the best matching image and score\u001b[0m\u001b[0;34m\u001b[0m\u001b[0;34m\u001b[0m\u001b[0m\n\u001b[0;32m---> 20\u001b[0;31m \u001b[0mbest_match_image\u001b[0m \u001b[0;34m=\u001b[0m \u001b[0msimilarities\u001b[0m\u001b[0;34m[\u001b[0m\u001b[0;36m0\u001b[0m\u001b[0;34m]\u001b[0m\u001b[0;34m[\u001b[0m\u001b[0;36m0\u001b[0m\u001b[0;34m]\u001b[0m\u001b[0;34m\u001b[0m\u001b[0;34m\u001b[0m\u001b[0m\n\u001b[0m\u001b[1;32m     21\u001b[0m \u001b[0mprint\u001b[0m\u001b[0;34m(\u001b[0m\u001b[0;34mf\"Best matching design: {best_match_image} with score: {similarities[0][1]}\"\u001b[0m\u001b[0;34m)\u001b[0m\u001b[0;34m\u001b[0m\u001b[0;34m\u001b[0m\u001b[0m\n",
            "\u001b[0;31mIndexError\u001b[0m: list index out of range"
          ]
        }
      ]
    }
  ]
}