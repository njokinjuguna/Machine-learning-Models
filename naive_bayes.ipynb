{
  "nbformat": 4,
  "nbformat_minor": 0,
  "metadata": {
    "colab": {
      "provenance": [],
      "toc_visible": true,
      "authorship_tag": "ABX9TyMxyudqv4yuAq3VOYvgNXaI",
      "include_colab_link": true
    },
    "kernelspec": {
      "name": "python3",
      "display_name": "Python 3"
    },
    "language_info": {
      "name": "python"
    }
  },
  "cells": [
    {
      "cell_type": "markdown",
      "metadata": {
        "id": "view-in-github",
        "colab_type": "text"
      },
      "source": [
        "<a href=\"https://colab.research.google.com/github/njokinjuguna/Machine-learning-Models/blob/main/naive_bayes.ipynb\" target=\"_parent\"><img src=\"https://colab.research.google.com/assets/colab-badge.svg\" alt=\"Open In Colab\"/></a>"
      ]
    },
    {
      "cell_type": "markdown",
      "source": [],
      "metadata": {
        "id": "nMopg0ny0RLz"
      }
    },
    {
      "cell_type": "markdown",
      "source": [
        "#**Naive Bayes**"
      ],
      "metadata": {
        "id": "0YPAGeCE0TYm"
      }
    },
    {
      "cell_type": "markdown",
      "source": [
        "## **Import the libraries**"
      ],
      "metadata": {
        "id": "bN2U92mX0gDY"
      }
    },
    {
      "cell_type": "code",
      "source": [
        "import pandas as pd\n",
        "from sklearn.model_selection import train_test_split\n",
        "from sklearn.feature_extraction.text import TfidfVectorizer,CountVectorizer\n",
        "from sklearn.naive_bayes import MultinomialNB"
      ],
      "metadata": {
        "id": "2FMZQReV0lcu"
      },
      "execution_count": 47,
      "outputs": []
    },
    {
      "cell_type": "code",
      "source": [
        "df=pd.read_csv(\"https://raw.githubusercontent.com/dotnet/machinelearning-samples/main/samples/csharp/getting-started/BinaryClassification_SentimentAnalysis/SentimentAnalysis/Data/wikiDetoxAnnotated40kRows.tsv\",sep='\\t')"
      ],
      "metadata": {
        "id": "jxnoyspI1uzY"
      },
      "execution_count": 40,
      "outputs": []
    },
    {
      "cell_type": "code",
      "source": [
        "df.head()\n",
        "df.isna().sum()\n",
        "\n",
        "df_comments=df.get('comment')\n",
        "\n",
        "print(df_comments)"
      ],
      "metadata": {
        "colab": {
          "base_uri": "https://localhost:8080/"
        },
        "id": "42qdfgaU2f5X",
        "outputId": "69b4d281-d230-4e0c-b640-becf752b2fe1"
      },
      "execution_count": 41,
      "outputs": [
        {
          "output_type": "stream",
          "name": "stdout",
          "text": [
            "0          ==He is a Rapist!!!!!== Please edit the arti...\n",
            "1        The other two films Hitch and Magnolia are als...\n",
            "2          == blocking people ==  how can i block lambs...\n",
            "3          == Are you a female????? ==  mootmootmootmoo...\n",
            "4         :::::Good enough for me; thanks for the info....\n",
            "                               ...                        \n",
            "38906    Big deal, there is NO attack. A fruit is not c...\n",
            "38907      NO what it is instead is blatant censorship ...\n",
            "38908          {| class=\"infobox\" width=\"270px\" |- !ali...\n",
            "38909      :::I wonder why you say \"in good faith\", are...\n",
            "38910      Excuse me, but my Cobain edits are fine and ...\n",
            "Name: comment, Length: 38911, dtype: object\n"
          ]
        }
      ]
    },
    {
      "cell_type": "code",
      "source": [
        "vectorizer=CountVectorizer(stop_words='english')"
      ],
      "metadata": {
        "id": "-cAV5v1634kz"
      },
      "execution_count": 42,
      "outputs": []
    },
    {
      "cell_type": "code",
      "source": [
        "# xData=vectorizer.fit_transform(df_comments)\n",
        "# print(xData)\n"
      ],
      "metadata": {
        "id": "vRAM3T_z6psc"
      },
      "execution_count": 43,
      "outputs": []
    },
    {
      "cell_type": "markdown",
      "source": [
        "## **Split data**"
      ],
      "metadata": {
        "id": "GICoAzuO9zL8"
      }
    },
    {
      "cell_type": "code",
      "source": [
        "X_train, X_test, Y_train, Y_test = train_test_split(df[\"comment\"],df['Label'],test_size=0.20)"
      ],
      "metadata": {
        "id": "P2T2N28k93cI"
      },
      "execution_count": 44,
      "outputs": []
    },
    {
      "cell_type": "markdown",
      "source": [
        "## **Feature Engineering**"
      ],
      "metadata": {
        "id": "hhFu6l97_Mom"
      }
    },
    {
      "cell_type": "code",
      "source": [
        "lst=X_train.tolist()\n",
        "vectorizer=TfidfVectorizer(lowercase=True,stop_words='english')\n",
        "countVector=CountVectorizer(stop_words='english')\n",
        "\n",
        "# features_train_transformed=vectorizer.fit_transform(lst)\n",
        "# features_test_transformed=vectorizer.transform(X_test)\n",
        "\n",
        "\n",
        "features_train_transformed=countVector.fit_transform(lst)\n",
        "features_test_transformed=countVector.transform(X_test)\n",
        "print(features_train_transformed)\n",
        "\n"
      ],
      "metadata": {
        "colab": {
          "base_uri": "https://localhost:8080/"
        },
        "id": "tx_tWF3z_RtP",
        "outputId": "86f2318f-01f7-492d-cb77-4db380768fd9"
      },
      "execution_count": 46,
      "outputs": [
        {
          "output_type": "stream",
          "name": "stdout",
          "text": [
            "  (0, 16056)\t1\n",
            "  (0, 63948)\t1\n",
            "  (0, 53362)\t1\n",
            "  (0, 34358)\t1\n",
            "  (0, 10578)\t1\n",
            "  (0, 38990)\t1\n",
            "  (0, 22024)\t1\n",
            "  (0, 61183)\t1\n",
            "  (0, 12905)\t1\n",
            "  (1, 4680)\t1\n",
            "  (1, 41902)\t1\n",
            "  (1, 64729)\t1\n",
            "  (2, 53192)\t1\n",
            "  (2, 50463)\t1\n",
            "  (2, 14710)\t1\n",
            "  (2, 22852)\t1\n",
            "  (2, 7545)\t1\n",
            "  (2, 24137)\t1\n",
            "  (2, 61983)\t1\n",
            "  (2, 43659)\t1\n",
            "  (2, 52692)\t1\n",
            "  (2, 24229)\t1\n",
            "  (2, 22049)\t1\n",
            "  (3, 25661)\t3\n",
            "  (3, 14821)\t2\n",
            "  :\t:\n",
            "  (31125, 66605)\t1\n",
            "  (31125, 62935)\t1\n",
            "  (31125, 47722)\t1\n",
            "  (31125, 66942)\t1\n",
            "  (31125, 68221)\t1\n",
            "  (31125, 68222)\t1\n",
            "  (31125, 56955)\t1\n",
            "  (31125, 52808)\t1\n",
            "  (31125, 64086)\t1\n",
            "  (31125, 49436)\t2\n",
            "  (31125, 66614)\t1\n",
            "  (31125, 24413)\t1\n",
            "  (31125, 46141)\t1\n",
            "  (31125, 65856)\t1\n",
            "  (31126, 6855)\t1\n",
            "  (31126, 6851)\t1\n",
            "  (31126, 46536)\t1\n",
            "  (31127, 46711)\t1\n",
            "  (31127, 22069)\t1\n",
            "  (31127, 42208)\t1\n",
            "  (31127, 39363)\t1\n",
            "  (31127, 3486)\t1\n",
            "  (31127, 12278)\t1\n",
            "  (31127, 45224)\t1\n",
            "  (31127, 70118)\t1\n"
          ]
        },
        {
          "output_type": "execute_result",
          "data": {
            "text/plain": [
              "array(['00', '000', '0000', ..., '電視劇', '독도', '순혈주의'], dtype=object)"
            ]
          },
          "metadata": {},
          "execution_count": 46
        }
      ]
    },
    {
      "cell_type": "markdown",
      "source": [
        "## **Model**"
      ],
      "metadata": {
        "id": "0uctO3bhDC2U"
      }
    },
    {
      "cell_type": "code",
      "source": [
        "model=MultinomialNB()\n",
        "model.fit(features_train_transformed,Y_train)\n",
        "print(len(Y_test))\n",
        "model.score(features_test_transformed,Y_test)\n",
        "predictions=model.predict(features_test_transformed);\n",
        "print(len(predictions))\n"
      ],
      "metadata": {
        "colab": {
          "base_uri": "https://localhost:8080/"
        },
        "id": "arZTQ10FDHxe",
        "outputId": "86f5b526-232e-4fa0-ef02-5d974db6f0c5"
      },
      "execution_count": 57,
      "outputs": [
        {
          "output_type": "stream",
          "name": "stdout",
          "text": [
            "7783\n",
            "7783\n"
          ]
        }
      ]
    },
    {
      "cell_type": "markdown",
      "source": [],
      "metadata": {
        "id": "r4MPoVW0N7mf"
      }
    }
  ]
}